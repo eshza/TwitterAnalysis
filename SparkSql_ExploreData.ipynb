{
 "cells": [
  {
   "cell_type": "code",
   "execution_count": 1,
   "metadata": {},
   "outputs": [],
   "source": [
    "import pyspark"
   ]
  },
  {
   "cell_type": "code",
   "execution_count": 2,
   "metadata": {},
   "outputs": [],
   "source": [
    "from pyspark import SparkContext\n",
    "sc = SparkContext.getOrCreate()\n",
    "from pyspark.sql import SQLContext\n",
    "sqlCtx = SQLContext(sc)\n",
    "db = sqlCtx.read.format(\"jdbc\").options(url =\"jdbc:sqlite:/Users/eshna/BigDataProject/tweets.db\", driver=\"org.sqlite.JDBC\", dbtable=\"tesla\").load()"
   ]
  },
  {
   "cell_type": "code",
   "execution_count": 3,
   "metadata": {},
   "outputs": [
    {
     "name": "stdout",
     "output_type": "stream",
     "text": [
      "+---------------+---------+--------------------+--------------------+---------+\n",
      "|       username|followers|               tweet|         tweet_clean|sentiment|\n",
      "+---------------+---------+--------------------+--------------------+---------+\n",
      "|      TeslaBumm|      0.0|I have some extra...|I have some extra...|  neutral|\n",
      "| teslamodel3fan|   5612.0|Wanted to share #...|Wanted to share  ...| positive|\n",
      "|  CaptainMorg10|    377.0|RT @MrGraphite2: ...| Big end of town ...|  neutral|\n",
      "|     AcvGateway|    110.0|RT @Paula_Piccard...| Tesla's Full Sel...|  neutral|\n",
      "|   pokeyrosie02|   5955.0|RT @DIXIEDOODLE12...| Hitler's bodygrd...|  neutral|\n",
      "|       TNR_Gold|   2636.0|RT @kirillklip: T...| Thank you! Our  ...| positive|\n",
      "|       teahyyng|   1430.0|Video 15 seconds ...|Video 15 seconds ...|  neutral|\n",
      "|       FRCTeams|  27452.0|Be sure to stop b...|Be sure to stop b...| positive|\n",
      "|      CityByrne|   1246.0|Can #Tesla delive...|Can  deliver a fl...|  neutral|\n",
      "|   RicksSoSlick|    737.0|RT @FullofCents: ...| Episode 2 of the...| negative|\n",
      "|  TheElonMasked|    112.0|What's your Tesla...|What's your Tesla...|  neutral|\n",
      "|     ElisonSnow|    267.0|RT @na2eastday: #...|  parked car expl...|  neutral|\n",
      "|husseinfathel20|     47.0|RT @Paula_Piccard...| Tesla's Full Sel...|  neutral|\n",
      "|       TNR_Gold|   2636.0|RT @kirillklip: B...| Building The    ...|  neutral|\n",
      "|     stupidDOPE|  96545.0|Updated &amp; Upg...|Updated &amp; Upg...|  neutral|\n",
      "|     ElisonSnow|    267.0|RT @drone20206: #...|  self-ignites an...|  neutral|\n",
      "|      Libreinfo|    858.0|Elon #Musk says #...|Elon  says  will ...|  neutral|\n",
      "|      yabbietol|    718.0|RT @sydney_ev: re...| recharging while...| positive|\n",
      "|    rifkirdhani|    290.0|RT @Paula_Piccard...| Tesla's Full Sel...|  neutral|\n",
      "|Ronaldvander123|     48.0|RT @Techgnostik: ...| Dozens more $TSL...| positive|\n",
      "+---------------+---------+--------------------+--------------------+---------+\n",
      "only showing top 20 rows\n",
      "\n"
     ]
    }
   ],
   "source": [
    "db.show()"
   ]
  },
  {
   "cell_type": "code",
   "execution_count": 4,
   "metadata": {},
   "outputs": [],
   "source": [
    "# Creating table \n",
    "db.createOrReplaceTempView(\"tesla\") "
   ]
  },
  {
   "cell_type": "code",
   "execution_count": 5,
   "metadata": {},
   "outputs": [
    {
     "name": "stdout",
     "output_type": "stream",
     "text": [
      "+---------+-----+\n",
      "|sentiment|count|\n",
      "+---------+-----+\n",
      "| positive|  278|\n",
      "|  neutral|  164|\n",
      "| negative|  239|\n",
      "+---------+-----+\n",
      "\n"
     ]
    }
   ],
   "source": [
    "# Count of Sentiment \n",
    "sent_count = spark.sql(\"select sentiment, count(sentiment) as count from tesla group by sentiment\")\n",
    "sent_count.show()"
   ]
  },
  {
   "cell_type": "markdown",
   "metadata": {},
   "source": [
    "# Distribution of Tweets"
   ]
  },
  {
   "cell_type": "code",
   "execution_count": 6,
   "metadata": {},
   "outputs": [
    {
     "data": {
      "text/plain": [
       "[('positive', 278), ('neutral', 164), ('negative', 239)]"
      ]
     },
     "execution_count": 6,
     "metadata": {},
     "output_type": "execute_result"
    }
   ],
   "source": [
    "# Making Plots \n",
    "%matplotlib inline \n",
    "import matplotlib.pyplot as plt\n",
    "import numpy as np\n",
    "\n",
    "sentimentCount_tuple = sent_count.rdd.map(lambda p: tuple(p)).collect()\n",
    "sentiment_list, count_list = zip(*sentimentCount_tuple)\n",
    "sentimentCount_tuple"
   ]
  },
  {
   "cell_type": "code",
   "execution_count": 7,
   "metadata": {},
   "outputs": [
    {
     "data": {
      "text/plain": [
       "Text(0.5, 1.0, 'Distribution of tweets')"
      ]
     },
     "execution_count": 7,
     "metadata": {},
     "output_type": "execute_result"
    },
    {
     "data": {
      "image/png": "[encoded data removed]",
      "text/plain": [
       "<Figure size 432x288 with 1 Axes>"
      ]
     },
     "metadata": {
      "needs_background": "light"
     },
     "output_type": "display_data"
    }
   ],
   "source": [
    "y_pos = np.arange(len(sentiment_list))\n",
    "plt.barh(y_pos, count_list, align='center', alpha = 0.4)\n",
    "plt.yticks(y_pos, sentiment_list)\n",
    "plt.xlabel(\"number of tweets\")\n",
    "plt.title(\"Distribution of tweets\")"
   ]
  },
  {
   "cell_type": "markdown",
   "metadata": {},
   "source": [
    "# Tweet type distribution by Sentiment"
   ]
  },
  {
   "cell_type": "code",
   "execution_count": 8,
   "metadata": {},
   "outputs": [
    {
     "name": "stdout",
     "output_type": "stream",
     "text": [
      "+-------------------+---+---+\n",
      "|sentiment_tweet_typ|ORI| RT|\n",
      "+-------------------+---+---+\n",
      "|            neutral| 69| 95|\n",
      "|           positive|141|137|\n",
      "|           negative| 32|207|\n",
      "+-------------------+---+---+\n",
      "\n"
     ]
    }
   ],
   "source": [
    "# classifying tweets as original and retweet \n",
    "from pyspark.sql.functions import lit\n",
    "tweet_type_original = spark.sql(\"select sentiment from tesla where tweet not like 'RT%'\")\n",
    "tweet_type = tweet_type_original.withColumn(\"tweet_typ\", lit(\"ORI\"))\n",
    "\n",
    "tweet_type_rt = spark.sql(\"select sentiment from tesla where tweet like 'RT%'\")\n",
    "tweet_type = tweet_type.union(tweet_type_rt.withColumn(\"tweet_typ\", lit(\"RT\")))\n",
    "\n",
    "tweet_CrossTab = tweet_type.stat.crosstab(\"sentiment\", \"tweet_typ\")\n",
    "tweet_CrossTab.show()"
   ]
  },
  {
   "cell_type": "code",
   "execution_count": 9,
   "metadata": {},
   "outputs": [
    {
     "data": {
      "text/plain": [
       "[('neutral', 69, 95), ('positive', 141, 137), ('negative', 32, 207)]"
      ]
     },
     "execution_count": 9,
     "metadata": {},
     "output_type": "execute_result"
    }
   ],
   "source": [
    "# Plotting the stacked bar chart. \n",
    "tweetType_tuple = tweet_CrossTab.rdd.map(lambda p: tuple(p)).collect()\n",
    "sentiment_list, ori_list, rt_list = zip(*tweetType_tuple)\n",
    "tweetType_tuple"
   ]
  },
  {
   "cell_type": "code",
   "execution_count": 10,
   "metadata": {},
   "outputs": [
    {
     "data": {
      "text/plain": [
       "<matplotlib.legend.Legend at 0x11a0882b0>"
      ]
     },
     "execution_count": 10,
     "metadata": {},
     "output_type": "execute_result"
    },
    {
     "data": {
      "image/png": "[encoded data removed]",
      "text/plain": [
       "<Figure size 432x288 with 1 Axes>"
      ]
     },
     "metadata": {
      "needs_background": "light"
     },
     "output_type": "display_data"
    }
   ],
   "source": [
    "y_pos = np.arange(len(sentiment_list))\n",
    "p1 = plt.bar(y_pos, ori_list, width = 0.75, color = 'red')\n",
    "p2 = plt.bar(y_pos, rt_list, width = 0.75, color = 'yellow', bottom = ori_list)\n",
    "plt.xticks(y_pos, sentiment_list, )\n",
    "plt.ylabel(\"number of tweets\")\n",
    "plt.title(\"Distribution of tweets types by sentiment\")\n",
    "plt.legend((p1[0], p2[0]), ('Original', 'Retweet'))"
   ]
  },
  {
   "cell_type": "markdown",
   "metadata": {},
   "source": [
    "# Top 10 Popular Users, who are tweeting negatively \n"
   ]
  },
  {
   "cell_type": "code",
   "execution_count": 11,
   "metadata": {},
   "outputs": [
    {
     "name": "stdout",
     "output_type": "stream",
     "text": [
      "+---------------+---------+-----------------------------------------------------------------------------------------------------------------+\n",
      "|username       |followers|tweet_clean                                                                                                      |\n",
      "+---------------+---------+-----------------------------------------------------------------------------------------------------------------+\n",
      "|TeslaMotorsClub|108966.0 |Tesla Posts Big Q1 Loss, Says Expect the Same Next Quarter                                                       |\n",
      "|haroldlgardner |25915.0  | Posts Big  as Its  Sales Lag                                                                                    |\n",
      "|danilefer      |2916.0   |fegeret: Elon Musk is annoying the hell out of people who work with self-driving cars                            |\n",
      "|fegeret        |2709.0   |Elon Musk is annoying the hell out of people who work with self-driving cars                                     |\n",
      "|mnaEN          |2685.0   | tough week,  shares sink to lowest in two years\n",
      "\n",
      " \n",
      "                                                             |\n",
      "|asokan_telecom |2025.0   |My Thought:  - Focus, Stop Talking, Execute - Thoughts - Anyone ?\n",
      "\n",
      "\n",
      "Tesla Factory AutoA...                       |\n",
      "|AndrzejMazurek |1276.0   |Sorry to hear that.                                                                                              |\n",
      "|jenkers_en     |1244.0   | Model Y Delayed Because   Can't Decide Where To Build SUV?                                                      |\n",
      "|scot_work      |1102.0   |Ben Carlson-Sypek, \"Senior manufacturing equipment engineer\" at  is out. No need for those kind of jobs since... |\n",
      "|thenowca       |1020.0   |Tesla's first quarter results are in, and they're not that great.\n",
      "\n",
      "                                              |\n",
      "+---------------+---------+-----------------------------------------------------------------------------------------------------------------+\n",
      "\n"
     ]
    }
   ],
   "source": [
    "follower_count = spark.sql(\"select distinct username, followers, tweet_clean from tesla where sentiment = 'negative' and tweet not like 'RT%' order by followers DESC limit 10\").show(10, False)"
   ]
  },
  {
   "cell_type": "markdown",
   "metadata": {},
   "source": [
    "# Most Re-Tweeted negative comment "
   ]
  },
  {
   "cell_type": "code",
   "execution_count": 12,
   "metadata": {
    "scrolled": true
   },
   "outputs": [
    {
     "name": "stdout",
     "output_type": "stream",
     "text": [
      "+----------------------------------------------------------------------------------------------------------------------------------------------+---+\n",
      "|tweet                                                                                                                                         |ct |\n",
      "+----------------------------------------------------------------------------------------------------------------------------------------------+---+\n",
      "|RT @Scotty49er: So today I drove a Tesla for the first time, and now all other cars are ruined for me. Our current gas car now feels like a...|168|\n",
      "+----------------------------------------------------------------------------------------------------------------------------------------------+---+\n",
      "\n"
     ]
    }
   ],
   "source": [
    "retweet_text= spark.sql(\"select tweet, count(tweet) as ct from tesla where tweet like 'RT%'and sentiment = 'negative' group by tweet order by count(tweet) DESC limit 1\")\n",
    "retweet_text.show(20,False)"
   ]
  },
  {
   "cell_type": "code",
   "execution_count": 13,
   "metadata": {},
   "outputs": [
    {
     "name": "stdout",
     "output_type": "stream",
     "text": [
      "+---------------+---------+\n",
      "|       username|followers|\n",
      "+---------------+---------+\n",
      "|TeslaMotorsClub| 108966.0|\n",
      "| SpirosMargaris|  75379.0|\n",
      "| haroldlgardner|  25915.0|\n",
      "|    Luminaria98|   6852.0|\n",
      "|  Green_Living1|   5089.0|\n",
      "|   KlendathuCap|   4423.0|\n",
      "|  ZarieOfficial|   3900.0|\n",
      "|FlatJannrickles|   3300.0|\n",
      "|aricrindfleisch|   2939.0|\n",
      "|      danilefer|   2916.0|\n",
      "+---------------+---------+\n",
      "\n"
     ]
    }
   ],
   "source": [
    "# top 10 negative tweeters with large follower counts\n",
    "spark.sql(\"select distinct username, followers from tesla where sentiment = 'negative' order by followers DESC limit 10\" ).show()"
   ]
  },
  {
   "cell_type": "code",
   "execution_count": 14,
   "metadata": {},
   "outputs": [
    {
     "name": "stdout",
     "output_type": "stream",
     "text": [
      "+---------+-----+\n",
      "|sentiment|count|\n",
      "+---------+-----+\n",
      "| positive|  141|\n",
      "|  neutral|   69|\n",
      "| negative|   32|\n",
      "+---------+-----+\n",
      "\n"
     ]
    }
   ],
   "source": [
    "# tweets that are not retweets, but original tweets. \n",
    "original_tweets = spark.sql(\"select * from tesla where tweet not like 'RT%'\")\n",
    "original_tweets.groupBy(\"sentiment\")\\\n",
    "          .count() \\\n",
    "          .show()"
   ]
  },
  {
   "cell_type": "code",
   "execution_count": 15,
   "metadata": {},
   "outputs": [],
   "source": [
    "original_tweets.createOrReplaceTempView(\"ori_tweet\")"
   ]
  },
  {
   "cell_type": "code",
   "execution_count": 16,
   "metadata": {},
   "outputs": [
    {
     "name": "stdout",
     "output_type": "stream",
     "text": [
      "+---------------+---------+----------------------------------------------------------------------------------------------------------------------------------------------+\n",
      "|username       |followers|tweet                                                                                                                                         |\n",
      "+---------------+---------+----------------------------------------------------------------------------------------------------------------------------------------------+\n",
      "|TeslaMotorsClub|108966.0 |Tesla Posts Big Q1 Loss, Says Expect the Same Next Quarter #Tesla #TSLA https://t.co/N3HBO63RQa                                               |\n",
      "|haroldlgardner |25915.0  |#Tesla Posts Big #QuarterlyLoss as Its #ElectricCar Sales Lag https://t.co/qDnWPJOo4o #ElonMusk #ElectricVehicles... https://t.co/IxCqJdOonP  |\n",
      "|danilefer      |2916.0   |fegeret: Elon Musk is annoying the hell out of people who work with self-driving cars #AutonomousVehicles #Tesla... https://t.co/HkCpEdrdkx   |\n",
      "|fegeret        |2709.0   |Elon Musk is annoying the hell out of people who work with self-driving cars #AutonomousVehicles #Tesla... https://t.co/TX4m6LpoEv            |\n",
      "|mnaEN          |2685.0   |#Ending tough week, #Tesla shares sink to lowest in two years\n",
      "\n",
      "#MNA_English \n",
      "#MNA https://t.co/zdQYizR25n                                     |\n",
      "|asokan_telecom |2025.0   |My Thought: #Elon - Focus, Stop Talking, Execute - Thoughts - Anyone ?\n",
      "https://t.co/dtyXQfxjHY\n",
      "\n",
      "Tesla Factory AutoA... https://t.co/T0FM34dZZp|\n",
      "|AndrzejMazurek |1276.0   |Sorry to hear that. #Tesla                                                                                                                    |\n",
      "|jenkers_en     |1244.0   |#Tesla Model Y Delayed Because #Elon #Musk Can't Decide Where To Build SUV? https://t.co/8zFGeOSCrT https://t.co/3bqScFYDhO                   |\n",
      "|scot_work      |1102.0   |Ben Carlson-Sypek, \"Senior manufacturing equipment engineer\" at #Tesla is out. No need for those kind of jobs since... https://t.co/rLHIBAW31s|\n",
      "|thenowca       |1020.0   |Tesla's first quarter results are in, and they're not that great.\n",
      "https://t.co/SMtdspv9KY\n",
      "#tesla #models #model3... https://t.co/HfYdfH2T7s   |\n",
      "+---------------+---------+----------------------------------------------------------------------------------------------------------------------------------------------+\n",
      "\n"
     ]
    }
   ],
   "source": [
    "# Display the most popular users who post negative tweets.  \n",
    "spark.sql(\"select distinct username, followers, tweet from ori_tweet where sentiment = 'negative' order by followers DESC limit 10\" ).show(20, False)"
   ]
  }
 ],
 "metadata": {
  "kernelspec": {
   "display_name": "Python 3",
   "language": "python",
   "name": "python3"
  },
  "language_info": {
   "codemirror_mode": {
    "name": "ipython",
    "version": 3
   },
   "file_extension": ".py",
   "mimetype": "text/x-python",
   "name": "python",
   "nbconvert_exporter": "python",
   "pygments_lexer": "ipython3",
   "version": "3.7.3"
  }
 },
 "nbformat": 4,
 "nbformat_minor": 2
}
